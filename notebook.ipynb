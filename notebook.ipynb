{
 "cells": [
  {
   "cell_type": "code",
   "execution_count": null,
   "metadata": {},
   "outputs": [],
   "source": [
    "from model.first_order_ode import FirstOrderODE\n",
    "from model.second_order_ode import SecondOrderODE\n",
    "from model.ode_system import ODESystem\n",
    "from model.heat_equation import HeatEquation\n",
    "from model.wave_equation import WaveEquation"
   ]
  },
  {
   "cell_type": "code",
   "execution_count": null,
   "metadata": {},
   "outputs": [],
   "source": [
    "f = lambda t, y: -y\n",
    "first_order_ode = FirstOrderODE(f, 1)\n",
    "first_order_ode.solve(5, 50)\n",
    "first_order_ode.plot_solution()"
   ]
  },
  {
   "cell_type": "code",
   "execution_count": null,
   "metadata": {},
   "outputs": [],
   "source": [
    "p = lambda t: 0\n",
    "q = lambda t: 0\n",
    "f = lambda x: 2 * x - x ** 2\n",
    "heat_equation = HeatEquation(1, 1, p, q, f)\n",
    "L = 2\n",
    "t = 1\n",
    "n = 20\n",
    "m = heat_equation.get_stable_m(L, n, t)\n",
    "heat_equation.solve(L, n, t, m)\n",
    "heat_equation.plot_solution()"
   ]
  },
  {
   "cell_type": "code",
   "execution_count": null,
   "metadata": {},
   "outputs": [],
   "source": []
  }
 ],
 "metadata": {
  "file_extension": ".py",
  "kernelspec": {
   "display_name": "Python 3",
   "language": "python",
   "name": "python3"
  },
  "language_info": {
   "codemirror_mode": {
    "name": "ipython",
    "version": 3
   },
   "file_extension": ".py",
   "mimetype": "text/x-python",
   "name": "python",
   "nbconvert_exporter": "python",
   "pygments_lexer": "ipython3",
   "version": "3.8.3"
  },
  "mimetype": "text/x-python",
  "name": "python",
  "npconvert_exporter": "python",
  "pygments_lexer": "ipython3",
  "version": 3
 },
 "nbformat": 4,
 "nbformat_minor": 2
}
