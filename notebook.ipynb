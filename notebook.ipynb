{
 "nbformat": 4,
 "nbformat_minor": 2,
 "metadata": {
  "language_info": {
   "name": "python",
   "codemirror_mode": {
    "name": "ipython",
    "version": 3
   },
   "version": "3.8.3"
  },
  "orig_nbformat": 2,
  "file_extension": ".py",
  "mimetype": "text/x-python",
  "name": "python",
  "npconvert_exporter": "python",
  "pygments_lexer": "ipython3",
  "version": 3
 },
 "cells": [
  {
   "cell_type": "code",
   "execution_count": null,
   "metadata": {},
   "outputs": [],
   "source": [
    "f = lambda t, y, z: -y"
   ]
  },
  {
   "source": [
    "from model.first_order_ode import FirstOrderODE\n",
    "from model.second_order_ode import SecondOrderODE\n",
    "from model.ode_system import ODESystem\n",
    "from model.heat_equation import HeatEquation\n",
    "from model.wave_equation import WaveEquation"
   ],
   "cell_type": "code",
   "outputs": [],
   "metadata": {},
   "execution_count": 3
  }
 ]
}